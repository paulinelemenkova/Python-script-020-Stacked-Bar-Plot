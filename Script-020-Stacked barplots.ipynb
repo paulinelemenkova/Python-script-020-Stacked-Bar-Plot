{
 "cells": [
  {
   "cell_type": "code",
   "execution_count": 68,
   "metadata": {},
   "outputs": [
    {
     "data": {
      "image/png": "[encoded data removed]",
      "text/plain": [
       "<Figure size 432x288 with 1 Axes>"
      ]
     },
     "metadata": {
      "needs_background": "light"
     },
     "output_type": "display_data"
    }
   ],
   "source": [
    "# libraries\n",
    "import numpy as np\n",
    "import matplotlib.pyplot as plt\n",
    "from matplotlib import rc\n",
    "import pandas as pd\n",
    "import os\n",
    "\n",
    "# Data\n",
    "os.chdir('/Users/pauline/Documents/Python')\n",
    "df = pd.read_csv(\"Tab-Morph.csv\")\n",
    "#df\n",
    "\n",
    "# y-axis in bold\n",
    "#rc('font', weight='bold')\n",
    "\n",
    "# Values of each group\n",
    "bars1 = df.plate_phill\n",
    "bars2 = df.plate_pacif\n",
    "bars3 = df.plate_maria\n",
    "bars4 = df.plate_carol\n",
    " \n",
    "# The position of the bars on the x-axis\n",
    "profiles = df.profile\n",
    " \n",
    "# Names of group and bar width\n",
    "names = [\"profile1\", \"profile2\", \"profile3\", \"profile4\", \"profile5\", \n",
    "         \"profile6\", \"profile7\",\"profile8\", \"profile9\", \"profile10\",\n",
    "         \"profile11\", \"profile12\", \"profile13\", \"profile14\", \"profile15\",\n",
    "         \"profile16\", \"profile17\", \"profile18\", \"profile19\", \"profile20\",\n",
    "         \"profile21\", \"profile22\", \"profile23\", \"profile24\", \"profile25\"]\n",
    "barWidth = 1\n",
    " \n",
    "# Create bars\n",
    "ax = plt.subplot(111)\n",
    "plt.bar(profiles, bars1, color='#dbd0e6', edgecolor='white', width=barWidth, label='Philippine Plate')\n",
    "plt.bar(profiles, bars2, bottom=(bars1), color='#a0d8ef', edgecolor='white', width=barWidth, \n",
    "        label='Pacific Plate')\n",
    "plt.bar(profiles, bars3, bottom=(bars1 + bars2), color='#eebbcb', edgecolor='white', width=barWidth,\n",
    "       label='Mariana Plate')\n",
    "plt.bar(profiles, bars4, bottom=(bars1 + bars2 + bars3), color='#c1d8ac', edgecolor='white', width=barWidth,\n",
    "       label='Caroline Plate')\n",
    " \n",
    "# Custom X axis\n",
    "plt.xticks(profiles, names, fontweight='normal', fontsize=7, rotation=30)\n",
    " \n",
    "# Show graphic\n",
    "plt.legend()\n",
    "ax.legend(loc='upper center', bbox_to_anchor=(0.5, -0.20), shadow=True, \n",
    "          markerscale=2, ncol=4, fontsize=6, title=False)\n",
    "plt.title('Mariana Trench: Stacked barplots for the distribution \\nof the bathymetric observations across tectonic plates', \n",
    "          fontsize=10, fontfamily='sans-serif')\n",
    "plt.show()"
   ]
  },
  {
   "cell_type": "code",
   "execution_count": null,
   "metadata": {},
   "outputs": [],
   "source": []
  },
  {
   "cell_type": "code",
   "execution_count": null,
   "metadata": {},
   "outputs": [],
   "source": []
  }
 ],
 "metadata": {
  "kernelspec": {
   "display_name": "Python 3",
   "language": "python",
   "name": "python3"
  },
  "language_info": {
   "codemirror_mode": {
    "name": "ipython",
    "version": 3
   },
   "file_extension": ".py",
   "mimetype": "text/x-python",
   "name": "python",
   "nbconvert_exporter": "python",
   "pygments_lexer": "ipython3",
   "version": "3.7.2"
  }
 },
 "nbformat": 4,
 "nbformat_minor": 2
}
